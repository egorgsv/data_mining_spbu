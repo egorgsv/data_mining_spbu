{
 "cells": [
  {
   "cell_type": "markdown",
   "metadata": {},
   "source": [
    "# С помощью разнообразных описательных статистик (которые  были изложены в лекциях) сравните товары и рестораны."
   ]
  },
  {
   "cell_type": "code",
   "execution_count": 1,
   "metadata": {},
   "outputs": [],
   "source": [
    "import os\n",
    "os.chdir(\"/Users/egorgusev/Анализ данных/Задание 2\")\n",
    "\n",
    "import pandas as pd \n",
    "import numpy as np\n",
    "import matplotlib\n",
    "import matplotlib.pyplot as plt"
   ]
  },
  {
   "cell_type": "code",
   "execution_count": 2,
   "metadata": {},
   "outputs": [],
   "source": [
    "ProductList = pd.read_csv('PRODUCT_LIST.CSV', sep=';', encoding='Windows-1251')"
   ]
  },
  {
   "cell_type": "code",
   "execution_count": 3,
   "metadata": {
    "scrolled": true
   },
   "outputs": [
    {
     "data": {
      "text/html": [
       "<div>\n",
       "<style scoped>\n",
       "    .dataframe tbody tr th:only-of-type {\n",
       "        vertical-align: middle;\n",
       "    }\n",
       "\n",
       "    .dataframe tbody tr th {\n",
       "        vertical-align: top;\n",
       "    }\n",
       "\n",
       "    .dataframe thead th {\n",
       "        text-align: right;\n",
       "    }\n",
       "</style>\n",
       "<table border=\"1\" class=\"dataframe\">\n",
       "  <thead>\n",
       "    <tr style=\"text-align: right;\">\n",
       "      <th></th>\n",
       "      <th>Product_code</th>\n",
       "      <th>Product_name</th>\n",
       "      <th>Unnamed: 2</th>\n",
       "      <th>Unnamed: 3</th>\n",
       "    </tr>\n",
       "  </thead>\n",
       "  <tbody>\n",
       "    <tr>\n",
       "      <th>0</th>\n",
       "      <td>821001</td>\n",
       "      <td>Кофе ЭСПРЕССО  30 мл</td>\n",
       "      <td>NaN</td>\n",
       "      <td>NaN</td>\n",
       "    </tr>\n",
       "    <tr>\n",
       "      <th>1</th>\n",
       "      <td>821002</td>\n",
       "      <td>Кофе ДОППИО 60мл</td>\n",
       "      <td>NaN</td>\n",
       "      <td>NaN</td>\n",
       "    </tr>\n",
       "    <tr>\n",
       "      <th>2</th>\n",
       "      <td>821003</td>\n",
       "      <td>Кофе РИСТРЕТТО  20 мл</td>\n",
       "      <td>NaN</td>\n",
       "      <td>NaN</td>\n",
       "    </tr>\n",
       "    <tr>\n",
       "      <th>3</th>\n",
       "      <td>821004</td>\n",
       "      <td>Фильтр кофе Верньяно250мл</td>\n",
       "      <td>NaN</td>\n",
       "      <td>NaN</td>\n",
       "    </tr>\n",
       "    <tr>\n",
       "      <th>4</th>\n",
       "      <td>821005</td>\n",
       "      <td>Кофе ЛУНГО  50 мл</td>\n",
       "      <td>NaN</td>\n",
       "      <td>NaN</td>\n",
       "    </tr>\n",
       "  </tbody>\n",
       "</table>\n",
       "</div>"
      ],
      "text/plain": [
       "   Product_code               Product_name Unnamed: 2 Unnamed: 3\n",
       "0        821001       Кофе ЭСПРЕССО  30 мл        NaN        NaN\n",
       "1        821002           Кофе ДОППИО 60мл        NaN        NaN\n",
       "2        821003      Кофе РИСТРЕТТО  20 мл        NaN        NaN\n",
       "3        821004  Фильтр кофе Верньяно250мл        NaN        NaN\n",
       "4        821005          Кофе ЛУНГО  50 мл        NaN        NaN"
      ]
     },
     "execution_count": 3,
     "metadata": {},
     "output_type": "execute_result"
    }
   ],
   "source": [
    "ProductList.head()"
   ]
  },
  {
   "cell_type": "code",
   "execution_count": 4,
   "metadata": {},
   "outputs": [
    {
     "data": {
      "text/plain": [
       "Product_code     int64\n",
       "Product_name    object\n",
       "Unnamed: 2      object\n",
       "Unnamed: 3      object\n",
       "dtype: object"
      ]
     },
     "execution_count": 4,
     "metadata": {},
     "output_type": "execute_result"
    }
   ],
   "source": [
    "ProductList.dtypes"
   ]
  },
  {
   "cell_type": "code",
   "execution_count": 5,
   "metadata": {},
   "outputs": [
    {
     "data": {
      "text/html": [
       "<div>\n",
       "<style scoped>\n",
       "    .dataframe tbody tr th:only-of-type {\n",
       "        vertical-align: middle;\n",
       "    }\n",
       "\n",
       "    .dataframe tbody tr th {\n",
       "        vertical-align: top;\n",
       "    }\n",
       "\n",
       "    .dataframe thead th {\n",
       "        text-align: right;\n",
       "    }\n",
       "</style>\n",
       "<table border=\"1\" class=\"dataframe\">\n",
       "  <thead>\n",
       "    <tr style=\"text-align: right;\">\n",
       "      <th></th>\n",
       "      <th>Product_code</th>\n",
       "      <th>Product_name</th>\n",
       "      <th>Unnamed: 2</th>\n",
       "      <th>Unnamed: 3</th>\n",
       "    </tr>\n",
       "  </thead>\n",
       "  <tbody>\n",
       "    <tr>\n",
       "      <th>count</th>\n",
       "      <td>9786.000000</td>\n",
       "      <td>9786</td>\n",
       "      <td>1</td>\n",
       "      <td>7</td>\n",
       "    </tr>\n",
       "    <tr>\n",
       "      <th>unique</th>\n",
       "      <td>NaN</td>\n",
       "      <td>9563</td>\n",
       "      <td>1</td>\n",
       "      <td>6</td>\n",
       "    </tr>\n",
       "    <tr>\n",
       "      <th>top</th>\n",
       "      <td>NaN</td>\n",
       "      <td>Не использовать</td>\n",
       "      <td>манго</td>\n",
       "      <td>5</td>\n",
       "    </tr>\n",
       "    <tr>\n",
       "      <th>freq</th>\n",
       "      <td>NaN</td>\n",
       "      <td>6</td>\n",
       "      <td>1</td>\n",
       "      <td>2</td>\n",
       "    </tr>\n",
       "    <tr>\n",
       "      <th>mean</th>\n",
       "      <td>850216.386879</td>\n",
       "      <td>NaN</td>\n",
       "      <td>NaN</td>\n",
       "      <td>NaN</td>\n",
       "    </tr>\n",
       "    <tr>\n",
       "      <th>std</th>\n",
       "      <td>18368.989736</td>\n",
       "      <td>NaN</td>\n",
       "      <td>NaN</td>\n",
       "      <td>NaN</td>\n",
       "    </tr>\n",
       "    <tr>\n",
       "      <th>min</th>\n",
       "      <td>821001.000000</td>\n",
       "      <td>NaN</td>\n",
       "      <td>NaN</td>\n",
       "      <td>NaN</td>\n",
       "    </tr>\n",
       "    <tr>\n",
       "      <th>25%</th>\n",
       "      <td>840564.250000</td>\n",
       "      <td>NaN</td>\n",
       "      <td>NaN</td>\n",
       "      <td>NaN</td>\n",
       "    </tr>\n",
       "    <tr>\n",
       "      <th>50%</th>\n",
       "      <td>848287.500000</td>\n",
       "      <td>NaN</td>\n",
       "      <td>NaN</td>\n",
       "      <td>NaN</td>\n",
       "    </tr>\n",
       "    <tr>\n",
       "      <th>75%</th>\n",
       "      <td>854544.750000</td>\n",
       "      <td>NaN</td>\n",
       "      <td>NaN</td>\n",
       "      <td>NaN</td>\n",
       "    </tr>\n",
       "    <tr>\n",
       "      <th>max</th>\n",
       "      <td>894098.000000</td>\n",
       "      <td>NaN</td>\n",
       "      <td>NaN</td>\n",
       "      <td>NaN</td>\n",
       "    </tr>\n",
       "  </tbody>\n",
       "</table>\n",
       "</div>"
      ],
      "text/plain": [
       "         Product_code     Product_name Unnamed: 2 Unnamed: 3\n",
       "count     9786.000000             9786          1          7\n",
       "unique            NaN             9563          1          6\n",
       "top               NaN  Не использовать      манго          5\n",
       "freq              NaN                6          1          2\n",
       "mean    850216.386879              NaN        NaN        NaN\n",
       "std      18368.989736              NaN        NaN        NaN\n",
       "min     821001.000000              NaN        NaN        NaN\n",
       "25%     840564.250000              NaN        NaN        NaN\n",
       "50%     848287.500000              NaN        NaN        NaN\n",
       "75%     854544.750000              NaN        NaN        NaN\n",
       "max     894098.000000              NaN        NaN        NaN"
      ]
     },
     "execution_count": 5,
     "metadata": {},
     "output_type": "execute_result"
    }
   ],
   "source": [
    "ProductList.describe(include = 'all')"
   ]
  },
  {
   "cell_type": "code",
   "execution_count": 6,
   "metadata": {},
   "outputs": [],
   "source": [
    "SaleList = pd.read_csv('SALE_LIST.csv', sep=';', encoding='Windows-1251')"
   ]
  },
  {
   "cell_type": "code",
   "execution_count": 7,
   "metadata": {},
   "outputs": [
    {
     "data": {
      "text/html": [
       "<div>\n",
       "<style scoped>\n",
       "    .dataframe tbody tr th:only-of-type {\n",
       "        vertical-align: middle;\n",
       "    }\n",
       "\n",
       "    .dataframe tbody tr th {\n",
       "        vertical-align: top;\n",
       "    }\n",
       "\n",
       "    .dataframe thead th {\n",
       "        text-align: right;\n",
       "    }\n",
       "</style>\n",
       "<table border=\"1\" class=\"dataframe\">\n",
       "  <thead>\n",
       "    <tr style=\"text-align: right;\">\n",
       "      <th></th>\n",
       "      <th>date</th>\n",
       "      <th>product_code</th>\n",
       "      <th>rest_code</th>\n",
       "      <th>product_count</th>\n",
       "    </tr>\n",
       "  </thead>\n",
       "  <tbody>\n",
       "    <tr>\n",
       "      <th>0</th>\n",
       "      <td>06.01.2009</td>\n",
       "      <td>824021</td>\n",
       "      <td>Озерный</td>\n",
       "      <td>4</td>\n",
       "    </tr>\n",
       "    <tr>\n",
       "      <th>1</th>\n",
       "      <td>06.01.2009</td>\n",
       "      <td>824068</td>\n",
       "      <td>Озерный</td>\n",
       "      <td>1</td>\n",
       "    </tr>\n",
       "    <tr>\n",
       "      <th>2</th>\n",
       "      <td>06.01.2009</td>\n",
       "      <td>824070</td>\n",
       "      <td>Озерный</td>\n",
       "      <td>2</td>\n",
       "    </tr>\n",
       "    <tr>\n",
       "      <th>3</th>\n",
       "      <td>06.01.2009</td>\n",
       "      <td>824073</td>\n",
       "      <td>Озерный</td>\n",
       "      <td>1</td>\n",
       "    </tr>\n",
       "    <tr>\n",
       "      <th>4</th>\n",
       "      <td>06.01.2009</td>\n",
       "      <td>824074</td>\n",
       "      <td>Озерный</td>\n",
       "      <td>1</td>\n",
       "    </tr>\n",
       "    <tr>\n",
       "      <th>...</th>\n",
       "      <td>...</td>\n",
       "      <td>...</td>\n",
       "      <td>...</td>\n",
       "      <td>...</td>\n",
       "    </tr>\n",
       "    <tr>\n",
       "      <th>135915</th>\n",
       "      <td>26.05.2013</td>\n",
       "      <td>892545</td>\n",
       "      <td>Мечта</td>\n",
       "      <td>3</td>\n",
       "    </tr>\n",
       "    <tr>\n",
       "      <th>135916</th>\n",
       "      <td>27.05.2013</td>\n",
       "      <td>892545</td>\n",
       "      <td>Мечта</td>\n",
       "      <td>1</td>\n",
       "    </tr>\n",
       "    <tr>\n",
       "      <th>135917</th>\n",
       "      <td>28.05.2013</td>\n",
       "      <td>892545</td>\n",
       "      <td>Мечта</td>\n",
       "      <td>3</td>\n",
       "    </tr>\n",
       "    <tr>\n",
       "      <th>135918</th>\n",
       "      <td>29.05.2013</td>\n",
       "      <td>892545</td>\n",
       "      <td>Мечта</td>\n",
       "      <td>4</td>\n",
       "    </tr>\n",
       "    <tr>\n",
       "      <th>135919</th>\n",
       "      <td>30.05.2013</td>\n",
       "      <td>892545</td>\n",
       "      <td>Мечта</td>\n",
       "      <td>1</td>\n",
       "    </tr>\n",
       "  </tbody>\n",
       "</table>\n",
       "<p>135920 rows × 4 columns</p>\n",
       "</div>"
      ],
      "text/plain": [
       "              date  product_code rest_code  product_count\n",
       "0       06.01.2009        824021   Озерный              4\n",
       "1       06.01.2009        824068   Озерный              1\n",
       "2       06.01.2009        824070   Озерный              2\n",
       "3       06.01.2009        824073   Озерный              1\n",
       "4       06.01.2009        824074   Озерный              1\n",
       "...            ...           ...       ...            ...\n",
       "135915  26.05.2013        892545     Мечта              3\n",
       "135916  27.05.2013        892545     Мечта              1\n",
       "135917  28.05.2013        892545     Мечта              3\n",
       "135918  29.05.2013        892545     Мечта              4\n",
       "135919  30.05.2013        892545     Мечта              1\n",
       "\n",
       "[135920 rows x 4 columns]"
      ]
     },
     "execution_count": 7,
     "metadata": {},
     "output_type": "execute_result"
    }
   ],
   "source": [
    "SaleList"
   ]
  },
  {
   "cell_type": "code",
   "execution_count": 8,
   "metadata": {},
   "outputs": [
    {
     "name": "stdout",
     "output_type": "stream",
     "text": [
      "<class 'pandas.core.frame.DataFrame'>\n",
      "RangeIndex: 135920 entries, 0 to 135919\n",
      "Data columns (total 4 columns):\n",
      " #   Column         Non-Null Count   Dtype \n",
      "---  ------         --------------   ----- \n",
      " 0   date           135920 non-null  object\n",
      " 1   product_code   135920 non-null  int64 \n",
      " 2   rest_code      135920 non-null  object\n",
      " 3   product_count  135920 non-null  int64 \n",
      "dtypes: int64(2), object(2)\n",
      "memory usage: 4.1+ MB\n"
     ]
    }
   ],
   "source": [
    "SaleList.info()"
   ]
  },
  {
   "cell_type": "code",
   "execution_count": 9,
   "metadata": {},
   "outputs": [
    {
     "data": {
      "text/html": [
       "<div>\n",
       "<style scoped>\n",
       "    .dataframe tbody tr th:only-of-type {\n",
       "        vertical-align: middle;\n",
       "    }\n",
       "\n",
       "    .dataframe tbody tr th {\n",
       "        vertical-align: top;\n",
       "    }\n",
       "\n",
       "    .dataframe thead th {\n",
       "        text-align: right;\n",
       "    }\n",
       "</style>\n",
       "<table border=\"1\" class=\"dataframe\">\n",
       "  <thead>\n",
       "    <tr style=\"text-align: right;\">\n",
       "      <th></th>\n",
       "      <th>date</th>\n",
       "      <th>product_code</th>\n",
       "      <th>rest_code</th>\n",
       "      <th>product_count</th>\n",
       "    </tr>\n",
       "  </thead>\n",
       "  <tbody>\n",
       "    <tr>\n",
       "      <th>count</th>\n",
       "      <td>135920</td>\n",
       "      <td>135920.000000</td>\n",
       "      <td>135920</td>\n",
       "      <td>135920.000000</td>\n",
       "    </tr>\n",
       "    <tr>\n",
       "      <th>unique</th>\n",
       "      <td>1826</td>\n",
       "      <td>NaN</td>\n",
       "      <td>2</td>\n",
       "      <td>NaN</td>\n",
       "    </tr>\n",
       "    <tr>\n",
       "      <th>top</th>\n",
       "      <td>20.09.2012</td>\n",
       "      <td>NaN</td>\n",
       "      <td>Мечта</td>\n",
       "      <td>NaN</td>\n",
       "    </tr>\n",
       "    <tr>\n",
       "      <th>freq</th>\n",
       "      <td>101</td>\n",
       "      <td>NaN</td>\n",
       "      <td>73690</td>\n",
       "      <td>NaN</td>\n",
       "    </tr>\n",
       "    <tr>\n",
       "      <th>mean</th>\n",
       "      <td>NaN</td>\n",
       "      <td>839804.895917</td>\n",
       "      <td>NaN</td>\n",
       "      <td>11.376663</td>\n",
       "    </tr>\n",
       "    <tr>\n",
       "      <th>std</th>\n",
       "      <td>NaN</td>\n",
       "      <td>28968.345316</td>\n",
       "      <td>NaN</td>\n",
       "      <td>18.153321</td>\n",
       "    </tr>\n",
       "    <tr>\n",
       "      <th>min</th>\n",
       "      <td>NaN</td>\n",
       "      <td>821001.000000</td>\n",
       "      <td>NaN</td>\n",
       "      <td>-6.000000</td>\n",
       "    </tr>\n",
       "    <tr>\n",
       "      <th>25%</th>\n",
       "      <td>NaN</td>\n",
       "      <td>822006.000000</td>\n",
       "      <td>NaN</td>\n",
       "      <td>2.000000</td>\n",
       "    </tr>\n",
       "    <tr>\n",
       "      <th>50%</th>\n",
       "      <td>NaN</td>\n",
       "      <td>824074.000000</td>\n",
       "      <td>NaN</td>\n",
       "      <td>5.000000</td>\n",
       "    </tr>\n",
       "    <tr>\n",
       "      <th>75%</th>\n",
       "      <td>NaN</td>\n",
       "      <td>862094.000000</td>\n",
       "      <td>NaN</td>\n",
       "      <td>12.000000</td>\n",
       "    </tr>\n",
       "    <tr>\n",
       "      <th>max</th>\n",
       "      <td>NaN</td>\n",
       "      <td>894098.000000</td>\n",
       "      <td>NaN</td>\n",
       "      <td>239.000000</td>\n",
       "    </tr>\n",
       "  </tbody>\n",
       "</table>\n",
       "</div>"
      ],
      "text/plain": [
       "              date   product_code rest_code  product_count\n",
       "count       135920  135920.000000    135920  135920.000000\n",
       "unique        1826            NaN         2            NaN\n",
       "top     20.09.2012            NaN     Мечта            NaN\n",
       "freq           101            NaN     73690            NaN\n",
       "mean           NaN  839804.895917       NaN      11.376663\n",
       "std            NaN   28968.345316       NaN      18.153321\n",
       "min            NaN  821001.000000       NaN      -6.000000\n",
       "25%            NaN  822006.000000       NaN       2.000000\n",
       "50%            NaN  824074.000000       NaN       5.000000\n",
       "75%            NaN  862094.000000       NaN      12.000000\n",
       "max            NaN  894098.000000       NaN     239.000000"
      ]
     },
     "execution_count": 9,
     "metadata": {},
     "output_type": "execute_result"
    }
   ],
   "source": [
    "SaleList.describe(include = 'all')"
   ]
  },
  {
   "cell_type": "code",
   "execution_count": 10,
   "metadata": {},
   "outputs": [
    {
     "data": {
      "text/plain": [
       "9563"
      ]
     },
     "execution_count": 10,
     "metadata": {},
     "output_type": "execute_result"
    }
   ],
   "source": [
    "len(ProductList['Product_name'].unique())"
   ]
  },
  {
   "cell_type": "code",
   "execution_count": 11,
   "metadata": {},
   "outputs": [
    {
     "data": {
      "text/plain": [
       "array(['Кофе ЭСПРЕССО  30 мл', 'Кофе ДОППИО 60мл',\n",
       "       'Кофе РИСТРЕТТО  20 мл', ..., 'Мо Мо 120г',\n",
       "       'Салат грейпфрут-манго п/ф', 'Фруктовый десерт 200г'], dtype=object)"
      ]
     },
     "execution_count": 11,
     "metadata": {},
     "output_type": "execute_result"
    }
   ],
   "source": [
    "ProductList['Product_name'].unique()"
   ]
  },
  {
   "cell_type": "code",
   "execution_count": 12,
   "metadata": {},
   "outputs": [
    {
     "data": {
      "text/plain": [
       "array([nan, '5%', '6%', '75л', '33', '5', '5 см'], dtype=object)"
      ]
     },
     "execution_count": 12,
     "metadata": {},
     "output_type": "execute_result"
    }
   ],
   "source": [
    "ProductList['Unnamed: 3'].unique()"
   ]
  },
  {
   "cell_type": "code",
   "execution_count": 15,
   "metadata": {},
   "outputs": [
    {
     "data": {
      "text/html": [
       "<div>\n",
       "<style scoped>\n",
       "    .dataframe tbody tr th:only-of-type {\n",
       "        vertical-align: middle;\n",
       "    }\n",
       "\n",
       "    .dataframe tbody tr th {\n",
       "        vertical-align: top;\n",
       "    }\n",
       "\n",
       "    .dataframe thead th {\n",
       "        text-align: right;\n",
       "    }\n",
       "</style>\n",
       "<table border=\"1\" class=\"dataframe\">\n",
       "  <thead>\n",
       "    <tr style=\"text-align: right;\">\n",
       "      <th></th>\n",
       "      <th>date</th>\n",
       "      <th>product_code</th>\n",
       "      <th>rest_code</th>\n",
       "      <th>product_count</th>\n",
       "      <th>Product_code</th>\n",
       "      <th>Product_name</th>\n",
       "      <th>Unnamed: 2</th>\n",
       "      <th>Unnamed: 3</th>\n",
       "    </tr>\n",
       "  </thead>\n",
       "  <tbody>\n",
       "    <tr>\n",
       "      <th>0</th>\n",
       "      <td>06.01.2009</td>\n",
       "      <td>824021</td>\n",
       "      <td>Озерный</td>\n",
       "      <td>4</td>\n",
       "      <td>824021</td>\n",
       "      <td>Чай красный фрукт 270мл</td>\n",
       "      <td>NaN</td>\n",
       "      <td>NaN</td>\n",
       "    </tr>\n",
       "    <tr>\n",
       "      <th>1</th>\n",
       "      <td>07.01.2009</td>\n",
       "      <td>824021</td>\n",
       "      <td>Озерный</td>\n",
       "      <td>2</td>\n",
       "      <td>824021</td>\n",
       "      <td>Чай красный фрукт 270мл</td>\n",
       "      <td>NaN</td>\n",
       "      <td>NaN</td>\n",
       "    </tr>\n",
       "    <tr>\n",
       "      <th>2</th>\n",
       "      <td>08.01.2009</td>\n",
       "      <td>824021</td>\n",
       "      <td>Озерный</td>\n",
       "      <td>2</td>\n",
       "      <td>824021</td>\n",
       "      <td>Чай красный фрукт 270мл</td>\n",
       "      <td>NaN</td>\n",
       "      <td>NaN</td>\n",
       "    </tr>\n",
       "    <tr>\n",
       "      <th>3</th>\n",
       "      <td>09.01.2009</td>\n",
       "      <td>824021</td>\n",
       "      <td>Озерный</td>\n",
       "      <td>1</td>\n",
       "      <td>824021</td>\n",
       "      <td>Чай красный фрукт 270мл</td>\n",
       "      <td>NaN</td>\n",
       "      <td>NaN</td>\n",
       "    </tr>\n",
       "    <tr>\n",
       "      <th>4</th>\n",
       "      <td>10.01.2009</td>\n",
       "      <td>824021</td>\n",
       "      <td>Озерный</td>\n",
       "      <td>2</td>\n",
       "      <td>824021</td>\n",
       "      <td>Чай красный фрукт 270мл</td>\n",
       "      <td>NaN</td>\n",
       "      <td>NaN</td>\n",
       "    </tr>\n",
       "    <tr>\n",
       "      <th>...</th>\n",
       "      <td>...</td>\n",
       "      <td>...</td>\n",
       "      <td>...</td>\n",
       "      <td>...</td>\n",
       "      <td>...</td>\n",
       "      <td>...</td>\n",
       "      <td>...</td>\n",
       "      <td>...</td>\n",
       "    </tr>\n",
       "    <tr>\n",
       "      <th>905</th>\n",
       "      <td>16.04.2010</td>\n",
       "      <td>824021</td>\n",
       "      <td>Мечта</td>\n",
       "      <td>19</td>\n",
       "      <td>824021</td>\n",
       "      <td>Чай красный фрукт 270мл</td>\n",
       "      <td>NaN</td>\n",
       "      <td>NaN</td>\n",
       "    </tr>\n",
       "    <tr>\n",
       "      <th>906</th>\n",
       "      <td>17.04.2010</td>\n",
       "      <td>824021</td>\n",
       "      <td>Мечта</td>\n",
       "      <td>12</td>\n",
       "      <td>824021</td>\n",
       "      <td>Чай красный фрукт 270мл</td>\n",
       "      <td>NaN</td>\n",
       "      <td>NaN</td>\n",
       "    </tr>\n",
       "    <tr>\n",
       "      <th>907</th>\n",
       "      <td>18.04.2010</td>\n",
       "      <td>824021</td>\n",
       "      <td>Мечта</td>\n",
       "      <td>10</td>\n",
       "      <td>824021</td>\n",
       "      <td>Чай красный фрукт 270мл</td>\n",
       "      <td>NaN</td>\n",
       "      <td>NaN</td>\n",
       "    </tr>\n",
       "    <tr>\n",
       "      <th>908</th>\n",
       "      <td>19.04.2010</td>\n",
       "      <td>824021</td>\n",
       "      <td>Мечта</td>\n",
       "      <td>11</td>\n",
       "      <td>824021</td>\n",
       "      <td>Чай красный фрукт 270мл</td>\n",
       "      <td>NaN</td>\n",
       "      <td>NaN</td>\n",
       "    </tr>\n",
       "    <tr>\n",
       "      <th>909</th>\n",
       "      <td>20.04.2010</td>\n",
       "      <td>824021</td>\n",
       "      <td>Мечта</td>\n",
       "      <td>4</td>\n",
       "      <td>824021</td>\n",
       "      <td>Чай красный фрукт 270мл</td>\n",
       "      <td>NaN</td>\n",
       "      <td>NaN</td>\n",
       "    </tr>\n",
       "  </tbody>\n",
       "</table>\n",
       "<p>910 rows × 8 columns</p>\n",
       "</div>"
      ],
      "text/plain": [
       "           date  product_code rest_code  product_count  Product_code  \\\n",
       "0    06.01.2009        824021   Озерный              4        824021   \n",
       "1    07.01.2009        824021   Озерный              2        824021   \n",
       "2    08.01.2009        824021   Озерный              2        824021   \n",
       "3    09.01.2009        824021   Озерный              1        824021   \n",
       "4    10.01.2009        824021   Озерный              2        824021   \n",
       "..          ...           ...       ...            ...           ...   \n",
       "905  16.04.2010        824021     Мечта             19        824021   \n",
       "906  17.04.2010        824021     Мечта             12        824021   \n",
       "907  18.04.2010        824021     Мечта             10        824021   \n",
       "908  19.04.2010        824021     Мечта             11        824021   \n",
       "909  20.04.2010        824021     Мечта              4        824021   \n",
       "\n",
       "                Product_name Unnamed: 2 Unnamed: 3  \n",
       "0    Чай красный фрукт 270мл        NaN        NaN  \n",
       "1    Чай красный фрукт 270мл        NaN        NaN  \n",
       "2    Чай красный фрукт 270мл        NaN        NaN  \n",
       "3    Чай красный фрукт 270мл        NaN        NaN  \n",
       "4    Чай красный фрукт 270мл        NaN        NaN  \n",
       "..                       ...        ...        ...  \n",
       "905  Чай красный фрукт 270мл        NaN        NaN  \n",
       "906  Чай красный фрукт 270мл        NaN        NaN  \n",
       "907  Чай красный фрукт 270мл        NaN        NaN  \n",
       "908  Чай красный фрукт 270мл        NaN        NaN  \n",
       "909  Чай красный фрукт 270мл        NaN        NaN  \n",
       "\n",
       "[910 rows x 8 columns]"
      ]
     },
     "execution_count": 15,
     "metadata": {},
     "output_type": "execute_result"
    }
   ],
   "source": [
    "mergeList[mergeList['Product_name'] == 'Чай красный фрукт 270мл']"
   ]
  },
  {
   "cell_type": "code",
   "execution_count": 16,
   "metadata": {},
   "outputs": [],
   "source": [
    "top5 = list(mergeList.groupby('Product_name')['product_count'].sum().sort_values(ascending = False).head(5).index.values)"
   ]
  },
  {
   "cell_type": "code",
   "execution_count": 17,
   "metadata": {},
   "outputs": [
    {
     "data": {
      "text/plain": [
       "rest_code  Product_name        \n",
       "Мечта      Кофе АМЕРИКАНО 90мл     AxesSubplot(0.125,0.125;0.775x0.755)\n",
       "           Кофе КАПУЧИНО 150мл     AxesSubplot(0.125,0.125;0.775x0.755)\n",
       "           Кофе Латте 300мл        AxesSubplot(0.125,0.125;0.775x0.755)\n",
       "           Кофе ЭСПРЕССО  30 мл    AxesSubplot(0.125,0.125;0.775x0.755)\n",
       "           Раф кофе 300мл          AxesSubplot(0.125,0.125;0.775x0.755)\n",
       "Озерный    Кофе АМЕРИКАНО 90мл     AxesSubplot(0.125,0.125;0.775x0.755)\n",
       "           Кофе КАПУЧИНО 150мл     AxesSubplot(0.125,0.125;0.775x0.755)\n",
       "           Кофе Латте 300мл        AxesSubplot(0.125,0.125;0.775x0.755)\n",
       "           Кофе ЭСПРЕССО  30 мл    AxesSubplot(0.125,0.125;0.775x0.755)\n",
       "           Раф кофе 300мл          AxesSubplot(0.125,0.125;0.775x0.755)\n",
       "Name: product_count, dtype: object"
      ]
     },
     "execution_count": 17,
     "metadata": {},
     "output_type": "execute_result"
    },
    {
     "data": {
      "image/png": "[encoded data removed]",
      "text/plain": [
       "<Figure size 432x288 with 1 Axes>"
      ]
     },
     "metadata": {
      "needs_background": "light"
     },
     "output_type": "display_data"
    }
   ],
   "source": [
    "mergeList[mergeList['Product_name'].isin(top5)].groupby(['rest_code', 'Product_name'])['product_count'].hist(bins=50)"
   ]
  },
  {
   "cell_type": "code",
   "execution_count": 18,
   "metadata": {},
   "outputs": [
    {
     "data": {
      "text/plain": [
       "<Figure size 432x288 with 0 Axes>"
      ]
     },
     "execution_count": 18,
     "metadata": {},
     "output_type": "execute_result"
    },
    {
     "data": {
      "image/png": "[encoded data removed]",
      "text/plain": [
       "<Figure size 2160x720 with 1 Axes>"
      ]
     },
     "metadata": {
      "needs_background": "light"
     },
     "output_type": "display_data"
    },
    {
     "data": {
      "text/plain": [
       "<Figure size 432x288 with 0 Axes>"
      ]
     },
     "metadata": {},
     "output_type": "display_data"
    }
   ],
   "source": [
    "ax1 = mergeList[mergeList['Product_name'].isin(top5)].boxplot(figsize=(30,10), column='product_count', by = ['rest_code', 'Product_name'])\n",
    "ax1.get_figure().suptitle('')\n",
    "plt.figure()"
   ]
  },
  {
   "cell_type": "code",
   "execution_count": 19,
   "metadata": {},
   "outputs": [],
   "source": [
    "top200M = mergeList[mergeList['rest_code'] == 'Мечта'].sort_values('product_count', ascending = False).head(200)\n",
    "top400O = mergeList[mergeList['rest_code'] == 'Озерный'].sort_values('product_count', ascending = False).head(400)"
   ]
  },
  {
   "cell_type": "code",
   "execution_count": 20,
   "metadata": {},
   "outputs": [
    {
     "data": {
      "text/html": [
       "<div>\n",
       "<style scoped>\n",
       "    .dataframe tbody tr th:only-of-type {\n",
       "        vertical-align: middle;\n",
       "    }\n",
       "\n",
       "    .dataframe tbody tr th {\n",
       "        vertical-align: top;\n",
       "    }\n",
       "\n",
       "    .dataframe thead th {\n",
       "        text-align: right;\n",
       "    }\n",
       "</style>\n",
       "<table border=\"1\" class=\"dataframe\">\n",
       "  <thead>\n",
       "    <tr style=\"text-align: right;\">\n",
       "      <th></th>\n",
       "      <th>date</th>\n",
       "      <th>product_code</th>\n",
       "      <th>rest_code</th>\n",
       "      <th>product_count</th>\n",
       "      <th>Product_code</th>\n",
       "      <th>Product_name</th>\n",
       "      <th>Unnamed: 2</th>\n",
       "      <th>Unnamed: 3</th>\n",
       "    </tr>\n",
       "  </thead>\n",
       "  <tbody>\n",
       "    <tr>\n",
       "      <th>93585</th>\n",
       "      <td>05.02.2010</td>\n",
       "      <td>822006</td>\n",
       "      <td>Озерный</td>\n",
       "      <td>67</td>\n",
       "      <td>822006</td>\n",
       "      <td>Кофе КАПУЧИНО 150мл</td>\n",
       "      <td>NaN</td>\n",
       "      <td>NaN</td>\n",
       "    </tr>\n",
       "    <tr>\n",
       "      <th>93705</th>\n",
       "      <td>28.05.2010</td>\n",
       "      <td>822006</td>\n",
       "      <td>Озерный</td>\n",
       "      <td>64</td>\n",
       "      <td>822006</td>\n",
       "      <td>Кофе КАПУЧИНО 150мл</td>\n",
       "      <td>NaN</td>\n",
       "      <td>NaN</td>\n",
       "    </tr>\n",
       "    <tr>\n",
       "      <th>93668</th>\n",
       "      <td>22.04.2010</td>\n",
       "      <td>822006</td>\n",
       "      <td>Озерный</td>\n",
       "      <td>62</td>\n",
       "      <td>822006</td>\n",
       "      <td>Кофе КАПУЧИНО 150мл</td>\n",
       "      <td>NaN</td>\n",
       "      <td>NaN</td>\n",
       "    </tr>\n",
       "    <tr>\n",
       "      <th>93626</th>\n",
       "      <td>16.03.2010</td>\n",
       "      <td>822006</td>\n",
       "      <td>Озерный</td>\n",
       "      <td>57</td>\n",
       "      <td>822006</td>\n",
       "      <td>Кофе КАПУЧИНО 150мл</td>\n",
       "      <td>NaN</td>\n",
       "      <td>NaN</td>\n",
       "    </tr>\n",
       "    <tr>\n",
       "      <th>95162</th>\n",
       "      <td>20.12.2013</td>\n",
       "      <td>822006</td>\n",
       "      <td>Озерный</td>\n",
       "      <td>56</td>\n",
       "      <td>822006</td>\n",
       "      <td>Кофе КАПУЧИНО 150мл</td>\n",
       "      <td>NaN</td>\n",
       "      <td>NaN</td>\n",
       "    </tr>\n",
       "    <tr>\n",
       "      <th>...</th>\n",
       "      <td>...</td>\n",
       "      <td>...</td>\n",
       "      <td>...</td>\n",
       "      <td>...</td>\n",
       "      <td>...</td>\n",
       "      <td>...</td>\n",
       "      <td>...</td>\n",
       "      <td>...</td>\n",
       "    </tr>\n",
       "    <tr>\n",
       "      <th>70861</th>\n",
       "      <td>13.04.2010</td>\n",
       "      <td>822087</td>\n",
       "      <td>Озерный</td>\n",
       "      <td>33</td>\n",
       "      <td>822087</td>\n",
       "      <td>Кофе Латте 300мл</td>\n",
       "      <td>NaN</td>\n",
       "      <td>NaN</td>\n",
       "    </tr>\n",
       "    <tr>\n",
       "      <th>94800</th>\n",
       "      <td>24.01.2013</td>\n",
       "      <td>822006</td>\n",
       "      <td>Озерный</td>\n",
       "      <td>32</td>\n",
       "      <td>822006</td>\n",
       "      <td>Кофе КАПУЧИНО 150мл</td>\n",
       "      <td>NaN</td>\n",
       "      <td>NaN</td>\n",
       "    </tr>\n",
       "    <tr>\n",
       "      <th>94393</th>\n",
       "      <td>16.02.2012</td>\n",
       "      <td>822006</td>\n",
       "      <td>Озерный</td>\n",
       "      <td>32</td>\n",
       "      <td>822006</td>\n",
       "      <td>Кофе КАПУЧИНО 150мл</td>\n",
       "      <td>NaN</td>\n",
       "      <td>NaN</td>\n",
       "    </tr>\n",
       "    <tr>\n",
       "      <th>93818</th>\n",
       "      <td>16.09.2010</td>\n",
       "      <td>822006</td>\n",
       "      <td>Озерный</td>\n",
       "      <td>32</td>\n",
       "      <td>822006</td>\n",
       "      <td>Кофе КАПУЧИНО 150мл</td>\n",
       "      <td>NaN</td>\n",
       "      <td>NaN</td>\n",
       "    </tr>\n",
       "    <tr>\n",
       "      <th>72017</th>\n",
       "      <td>28.12.2011</td>\n",
       "      <td>822087</td>\n",
       "      <td>Озерный</td>\n",
       "      <td>32</td>\n",
       "      <td>822087</td>\n",
       "      <td>Кофе Латте 300мл</td>\n",
       "      <td>NaN</td>\n",
       "      <td>NaN</td>\n",
       "    </tr>\n",
       "  </tbody>\n",
       "</table>\n",
       "<p>400 rows × 8 columns</p>\n",
       "</div>"
      ],
      "text/plain": [
       "             date  product_code rest_code  product_count  Product_code  \\\n",
       "93585  05.02.2010        822006   Озерный             67        822006   \n",
       "93705  28.05.2010        822006   Озерный             64        822006   \n",
       "93668  22.04.2010        822006   Озерный             62        822006   \n",
       "93626  16.03.2010        822006   Озерный             57        822006   \n",
       "95162  20.12.2013        822006   Озерный             56        822006   \n",
       "...           ...           ...       ...            ...           ...   \n",
       "70861  13.04.2010        822087   Озерный             33        822087   \n",
       "94800  24.01.2013        822006   Озерный             32        822006   \n",
       "94393  16.02.2012        822006   Озерный             32        822006   \n",
       "93818  16.09.2010        822006   Озерный             32        822006   \n",
       "72017  28.12.2011        822087   Озерный             32        822087   \n",
       "\n",
       "              Product_name Unnamed: 2 Unnamed: 3  \n",
       "93585  Кофе КАПУЧИНО 150мл        NaN        NaN  \n",
       "93705  Кофе КАПУЧИНО 150мл        NaN        NaN  \n",
       "93668  Кофе КАПУЧИНО 150мл        NaN        NaN  \n",
       "93626  Кофе КАПУЧИНО 150мл        NaN        NaN  \n",
       "95162  Кофе КАПУЧИНО 150мл        NaN        NaN  \n",
       "...                    ...        ...        ...  \n",
       "70861     Кофе Латте 300мл        NaN        NaN  \n",
       "94800  Кофе КАПУЧИНО 150мл        NaN        NaN  \n",
       "94393  Кофе КАПУЧИНО 150мл        NaN        NaN  \n",
       "93818  Кофе КАПУЧИНО 150мл        NaN        NaN  \n",
       "72017     Кофе Латте 300мл        NaN        NaN  \n",
       "\n",
       "[400 rows x 8 columns]"
      ]
     },
     "execution_count": 20,
     "metadata": {},
     "output_type": "execute_result"
    }
   ],
   "source": [
    "top400O"
   ]
  },
  {
   "cell_type": "code",
   "execution_count": null,
   "metadata": {},
   "outputs": [],
   "source": []
  },
  {
   "cell_type": "code",
   "execution_count": 21,
   "metadata": {},
   "outputs": [
    {
     "data": {
      "text/plain": [
       "array([[<matplotlib.axes._subplots.AxesSubplot object at 0x7ff7dc56d290>]],\n",
       "      dtype=object)"
      ]
     },
     "execution_count": 21,
     "metadata": {},
     "output_type": "execute_result"
    },
    {
     "data": {
      "image/png": "[encoded data removed]",
      "text/plain": [
       "<Figure size 432x288 with 1 Axes>"
      ]
     },
     "metadata": {
      "needs_background": "light"
     },
     "output_type": "display_data"
    }
   ],
   "source": [
    "top400O.hist('product_count')"
   ]
  },
  {
   "cell_type": "code",
   "execution_count": 22,
   "metadata": {},
   "outputs": [
    {
     "data": {
      "text/html": [
       "<div>\n",
       "<style scoped>\n",
       "    .dataframe tbody tr th:only-of-type {\n",
       "        vertical-align: middle;\n",
       "    }\n",
       "\n",
       "    .dataframe tbody tr th {\n",
       "        vertical-align: top;\n",
       "    }\n",
       "\n",
       "    .dataframe thead th {\n",
       "        text-align: right;\n",
       "    }\n",
       "</style>\n",
       "<table border=\"1\" class=\"dataframe\">\n",
       "  <thead>\n",
       "    <tr style=\"text-align: right;\">\n",
       "      <th></th>\n",
       "      <th>date</th>\n",
       "      <th>product_code</th>\n",
       "      <th>rest_code</th>\n",
       "      <th>product_count</th>\n",
       "      <th>Product_code</th>\n",
       "      <th>Product_name</th>\n",
       "      <th>Unnamed: 2</th>\n",
       "      <th>Unnamed: 3</th>\n",
       "    </tr>\n",
       "  </thead>\n",
       "  <tbody>\n",
       "    <tr>\n",
       "      <th>95363</th>\n",
       "      <td>16.05.2010</td>\n",
       "      <td>822006</td>\n",
       "      <td>Мечта</td>\n",
       "      <td>239</td>\n",
       "      <td>822006</td>\n",
       "      <td>Кофе КАПУЧИНО 150мл</td>\n",
       "      <td>NaN</td>\n",
       "      <td>NaN</td>\n",
       "    </tr>\n",
       "    <tr>\n",
       "      <th>96205</th>\n",
       "      <td>21.04.2012</td>\n",
       "      <td>822006</td>\n",
       "      <td>Мечта</td>\n",
       "      <td>233</td>\n",
       "      <td>822006</td>\n",
       "      <td>Кофе КАПУЧИНО 150мл</td>\n",
       "      <td>NaN</td>\n",
       "      <td>NaN</td>\n",
       "    </tr>\n",
       "    <tr>\n",
       "      <th>96239</th>\n",
       "      <td>13.05.2012</td>\n",
       "      <td>822006</td>\n",
       "      <td>Мечта</td>\n",
       "      <td>219</td>\n",
       "      <td>822006</td>\n",
       "      <td>Кофе КАПУЧИНО 150мл</td>\n",
       "      <td>NaN</td>\n",
       "      <td>NaN</td>\n",
       "    </tr>\n",
       "    <tr>\n",
       "      <th>96245</th>\n",
       "      <td>19.05.2012</td>\n",
       "      <td>822006</td>\n",
       "      <td>Мечта</td>\n",
       "      <td>208</td>\n",
       "      <td>822006</td>\n",
       "      <td>Кофе КАПУЧИНО 150мл</td>\n",
       "      <td>NaN</td>\n",
       "      <td>NaN</td>\n",
       "    </tr>\n",
       "    <tr>\n",
       "      <th>95371</th>\n",
       "      <td>23.05.2010</td>\n",
       "      <td>822006</td>\n",
       "      <td>Мечта</td>\n",
       "      <td>207</td>\n",
       "      <td>822006</td>\n",
       "      <td>Кофе КАПУЧИНО 150мл</td>\n",
       "      <td>NaN</td>\n",
       "      <td>NaN</td>\n",
       "    </tr>\n",
       "    <tr>\n",
       "      <th>...</th>\n",
       "      <td>...</td>\n",
       "      <td>...</td>\n",
       "      <td>...</td>\n",
       "      <td>...</td>\n",
       "      <td>...</td>\n",
       "      <td>...</td>\n",
       "      <td>...</td>\n",
       "      <td>...</td>\n",
       "    </tr>\n",
       "    <tr>\n",
       "      <th>101694</th>\n",
       "      <td>23.02.2013</td>\n",
       "      <td>822164</td>\n",
       "      <td>Мечта</td>\n",
       "      <td>140</td>\n",
       "      <td>822164</td>\n",
       "      <td>Раф кофе 300мл</td>\n",
       "      <td>NaN</td>\n",
       "      <td>NaN</td>\n",
       "    </tr>\n",
       "    <tr>\n",
       "      <th>74302</th>\n",
       "      <td>11.04.2010</td>\n",
       "      <td>822087</td>\n",
       "      <td>Мечта</td>\n",
       "      <td>140</td>\n",
       "      <td>822087</td>\n",
       "      <td>Кофе Латте 300мл</td>\n",
       "      <td>NaN</td>\n",
       "      <td>NaN</td>\n",
       "    </tr>\n",
       "    <tr>\n",
       "      <th>95372</th>\n",
       "      <td>24.05.2010</td>\n",
       "      <td>822006</td>\n",
       "      <td>Мечта</td>\n",
       "      <td>140</td>\n",
       "      <td>822006</td>\n",
       "      <td>Кофе КАПУЧИНО 150мл</td>\n",
       "      <td>NaN</td>\n",
       "      <td>NaN</td>\n",
       "    </tr>\n",
       "    <tr>\n",
       "      <th>95994</th>\n",
       "      <td>04.11.2011</td>\n",
       "      <td>822006</td>\n",
       "      <td>Мечта</td>\n",
       "      <td>140</td>\n",
       "      <td>822006</td>\n",
       "      <td>Кофе КАПУЧИНО 150мл</td>\n",
       "      <td>NaN</td>\n",
       "      <td>NaN</td>\n",
       "    </tr>\n",
       "    <tr>\n",
       "      <th>95981</th>\n",
       "      <td>23.10.2011</td>\n",
       "      <td>822006</td>\n",
       "      <td>Мечта</td>\n",
       "      <td>140</td>\n",
       "      <td>822006</td>\n",
       "      <td>Кофе КАПУЧИНО 150мл</td>\n",
       "      <td>NaN</td>\n",
       "      <td>NaN</td>\n",
       "    </tr>\n",
       "  </tbody>\n",
       "</table>\n",
       "<p>200 rows × 8 columns</p>\n",
       "</div>"
      ],
      "text/plain": [
       "              date  product_code rest_code  product_count  Product_code  \\\n",
       "95363   16.05.2010        822006     Мечта            239        822006   \n",
       "96205   21.04.2012        822006     Мечта            233        822006   \n",
       "96239   13.05.2012        822006     Мечта            219        822006   \n",
       "96245   19.05.2012        822006     Мечта            208        822006   \n",
       "95371   23.05.2010        822006     Мечта            207        822006   \n",
       "...            ...           ...       ...            ...           ...   \n",
       "101694  23.02.2013        822164     Мечта            140        822164   \n",
       "74302   11.04.2010        822087     Мечта            140        822087   \n",
       "95372   24.05.2010        822006     Мечта            140        822006   \n",
       "95994   04.11.2011        822006     Мечта            140        822006   \n",
       "95981   23.10.2011        822006     Мечта            140        822006   \n",
       "\n",
       "               Product_name Unnamed: 2 Unnamed: 3  \n",
       "95363   Кофе КАПУЧИНО 150мл        NaN        NaN  \n",
       "96205   Кофе КАПУЧИНО 150мл        NaN        NaN  \n",
       "96239   Кофе КАПУЧИНО 150мл        NaN        NaN  \n",
       "96245   Кофе КАПУЧИНО 150мл        NaN        NaN  \n",
       "95371   Кофе КАПУЧИНО 150мл        NaN        NaN  \n",
       "...                     ...        ...        ...  \n",
       "101694       Раф кофе 300мл        NaN        NaN  \n",
       "74302      Кофе Латте 300мл        NaN        NaN  \n",
       "95372   Кофе КАПУЧИНО 150мл        NaN        NaN  \n",
       "95994   Кофе КАПУЧИНО 150мл        NaN        NaN  \n",
       "95981   Кофе КАПУЧИНО 150мл        NaN        NaN  \n",
       "\n",
       "[200 rows x 8 columns]"
      ]
     },
     "execution_count": 22,
     "metadata": {},
     "output_type": "execute_result"
    }
   ],
   "source": [
    "top200M"
   ]
  },
  {
   "cell_type": "code",
   "execution_count": 23,
   "metadata": {},
   "outputs": [
    {
     "data": {
      "text/plain": [
       "array([[<matplotlib.axes._subplots.AxesSubplot object at 0x7ff7dc5ce8d0>]],\n",
       "      dtype=object)"
      ]
     },
     "execution_count": 23,
     "metadata": {},
     "output_type": "execute_result"
    },
    {
     "data": {
      "image/png": "[encoded data removed]",
      "text/plain": [
       "<Figure size 432x288 with 1 Axes>"
      ]
     },
     "metadata": {
      "needs_background": "light"
     },
     "output_type": "display_data"
    }
   ],
   "source": [
    "top200M.hist('product_count')"
   ]
  },
  {
   "cell_type": "code",
   "execution_count": 24,
   "metadata": {},
   "outputs": [
    {
     "data": {
      "text/plain": [
       "<matplotlib.axes._subplots.AxesSubplot at 0x7ff7dc375f50>"
      ]
     },
     "execution_count": 24,
     "metadata": {},
     "output_type": "execute_result"
    },
    {
     "data": {
      "image/png": "[encoded data removed]",
      "text/plain": [
       "<Figure size 432x288 with 1 Axes>"
      ]
     },
     "metadata": {
      "needs_background": "light"
     },
     "output_type": "display_data"
    }
   ],
   "source": [
    "top200M.boxplot(column='product_count')"
   ]
  },
  {
   "cell_type": "code",
   "execution_count": 25,
   "metadata": {},
   "outputs": [
    {
     "data": {
      "text/plain": [
       "<matplotlib.axes._subplots.AxesSubplot at 0x7ff7dcb9d310>"
      ]
     },
     "execution_count": 25,
     "metadata": {},
     "output_type": "execute_result"
    },
    {
     "data": {
      "image/png": "[encoded data removed]",
      "text/plain": [
       "<Figure size 432x288 with 1 Axes>"
      ]
     },
     "metadata": {
      "needs_background": "light"
     },
     "output_type": "display_data"
    }
   ],
   "source": [
    "top400O.boxplot(column='product_count')"
   ]
  },
  {
   "cell_type": "code",
   "execution_count": 26,
   "metadata": {},
   "outputs": [
    {
     "ename": "NameError",
     "evalue": "name 'top200' is not defined",
     "output_type": "error",
     "traceback": [
      "\u001b[0;31m---------------------------------------------------------------------------\u001b[0m",
      "\u001b[0;31mNameError\u001b[0m                                 Traceback (most recent call last)",
      "\u001b[0;32m<ipython-input-26-889bfcfcb237>\u001b[0m in \u001b[0;36m<module>\u001b[0;34m\u001b[0m\n\u001b[0;32m----> 1\u001b[0;31m \u001b[0mnp\u001b[0m\u001b[0;34m.\u001b[0m\u001b[0mlog\u001b[0m\u001b[0;34m(\u001b[0m\u001b[0mtop200\u001b[0m\u001b[0;34m[\u001b[0m\u001b[0;34m'product_count'\u001b[0m\u001b[0;34m]\u001b[0m\u001b[0;34m)\u001b[0m\u001b[0;34m.\u001b[0m\u001b[0mhist\u001b[0m\u001b[0;34m(\u001b[0m\u001b[0;34m)\u001b[0m\u001b[0;34m\u001b[0m\u001b[0;34m\u001b[0m\u001b[0m\n\u001b[0m",
      "\u001b[0;31mNameError\u001b[0m: name 'top200' is not defined"
     ]
    }
   ],
   "source": [
    "np.log(top200['product_count']).hist()"
   ]
  },
  {
   "cell_type": "code",
   "execution_count": 27,
   "metadata": {},
   "outputs": [
    {
     "data": {
      "text/plain": [
       "Product_name\n",
       "Кофе КАПУЧИНО 150мл          177515\n",
       "Кофе Латте 300мл             174315\n",
       "Кофе АМЕРИКАНО 90мл          115652\n",
       "Кофе ЭСПРЕССО  30 мл         115551\n",
       "Раф кофе 300мл                77722\n",
       "                              ...  \n",
       "Пирожное Руби 80г                74\n",
       "Чай Ориентал Бьюти 600мл         63\n",
       "Десерт Манифик 100г              56\n",
       "Чай черн с суш мятой500мл        19\n",
       "РАФ Кофе 250мл                    1\n",
       "Name: product_count, Length: 110, dtype: int64"
      ]
     },
     "execution_count": 27,
     "metadata": {},
     "output_type": "execute_result"
    }
   ],
   "source": [
    "mergeList.groupby('Product_name')['product_count'].sum().sort_values(ascending = False)"
   ]
  },
  {
   "cell_type": "code",
   "execution_count": 28,
   "metadata": {},
   "outputs": [],
   "source": [
    "#top200.groupby('date').hist(column='product_count')"
   ]
  },
  {
   "cell_type": "code",
   "execution_count": 29,
   "metadata": {},
   "outputs": [],
   "source": [
    "df = pd.DataFrame(mergeList.groupby(['Product_name', 'rest_code'])['product_count'].sum())"
   ]
  },
  {
   "cell_type": "code",
   "execution_count": 30,
   "metadata": {},
   "outputs": [
    {
     "data": {
      "text/plain": [
       "<matplotlib.axes._subplots.AxesSubplot at 0x7ff7dc6d4d50>"
      ]
     },
     "execution_count": 30,
     "metadata": {},
     "output_type": "execute_result"
    },
    {
     "data": {
      "image/png": "[encoded data removed]",
      "text/plain": [
       "<Figure size 432x288 with 1 Axes>"
      ]
     },
     "metadata": {
      "needs_background": "light"
     },
     "output_type": "display_data"
    }
   ],
   "source": [
    "df.boxplot(column='product_count', by='rest_code')"
   ]
  },
  {
   "cell_type": "code",
   "execution_count": 31,
   "metadata": {},
   "outputs": [
    {
     "ename": "NameError",
     "evalue": "name 'top200' is not defined",
     "output_type": "error",
     "traceback": [
      "\u001b[0;31m---------------------------------------------------------------------------\u001b[0m",
      "\u001b[0;31mNameError\u001b[0m                                 Traceback (most recent call last)",
      "\u001b[0;32m<ipython-input-31-b08b3af2af81>\u001b[0m in \u001b[0;36m<module>\u001b[0;34m\u001b[0m\n\u001b[0;32m----> 1\u001b[0;31m \u001b[0mtop200\u001b[0m\u001b[0;34m.\u001b[0m\u001b[0mboxplot\u001b[0m\u001b[0;34m(\u001b[0m\u001b[0mcolumn\u001b[0m\u001b[0;34m=\u001b[0m\u001b[0;34m'product_count'\u001b[0m\u001b[0;34m,\u001b[0m \u001b[0mby\u001b[0m\u001b[0;34m=\u001b[0m\u001b[0;34m'rest_code'\u001b[0m\u001b[0;34m)\u001b[0m\u001b[0;34m\u001b[0m\u001b[0;34m\u001b[0m\u001b[0m\n\u001b[0m",
      "\u001b[0;31mNameError\u001b[0m: name 'top200' is not defined"
     ]
    }
   ],
   "source": [
    "top200.boxplot(column='product_count', by='rest_code')"
   ]
  },
  {
   "cell_type": "code",
   "execution_count": null,
   "metadata": {},
   "outputs": [],
   "source": [
    "df.hist(column='product_count', by='rest_code')"
   ]
  },
  {
   "cell_type": "code",
   "execution_count": null,
   "metadata": {},
   "outputs": [],
   "source": [
    "mergeList.groupby(['Product_name', 'rest_code'])['product_count'].sum().sort_values(ascending = False)"
   ]
  },
  {
   "cell_type": "code",
   "execution_count": 14,
   "metadata": {},
   "outputs": [
    {
     "data": {
      "text/html": [
       "<div>\n",
       "<style scoped>\n",
       "    .dataframe tbody tr th:only-of-type {\n",
       "        vertical-align: middle;\n",
       "    }\n",
       "\n",
       "    .dataframe tbody tr th {\n",
       "        vertical-align: top;\n",
       "    }\n",
       "\n",
       "    .dataframe thead th {\n",
       "        text-align: right;\n",
       "    }\n",
       "</style>\n",
       "<table border=\"1\" class=\"dataframe\">\n",
       "  <thead>\n",
       "    <tr style=\"text-align: right;\">\n",
       "      <th></th>\n",
       "      <th>date</th>\n",
       "      <th>product_code</th>\n",
       "      <th>rest_code</th>\n",
       "      <th>product_count</th>\n",
       "      <th>Product_code</th>\n",
       "      <th>Product_name</th>\n",
       "      <th>Unnamed: 2</th>\n",
       "      <th>Unnamed: 3</th>\n",
       "    </tr>\n",
       "  </thead>\n",
       "  <tbody>\n",
       "    <tr>\n",
       "      <th>0</th>\n",
       "      <td>06.01.2009</td>\n",
       "      <td>824021</td>\n",
       "      <td>Озерный</td>\n",
       "      <td>4</td>\n",
       "      <td>824021</td>\n",
       "      <td>Чай красный фрукт 270мл</td>\n",
       "      <td>NaN</td>\n",
       "      <td>NaN</td>\n",
       "    </tr>\n",
       "    <tr>\n",
       "      <th>1</th>\n",
       "      <td>07.01.2009</td>\n",
       "      <td>824021</td>\n",
       "      <td>Озерный</td>\n",
       "      <td>2</td>\n",
       "      <td>824021</td>\n",
       "      <td>Чай красный фрукт 270мл</td>\n",
       "      <td>NaN</td>\n",
       "      <td>NaN</td>\n",
       "    </tr>\n",
       "    <tr>\n",
       "      <th>2</th>\n",
       "      <td>08.01.2009</td>\n",
       "      <td>824021</td>\n",
       "      <td>Озерный</td>\n",
       "      <td>2</td>\n",
       "      <td>824021</td>\n",
       "      <td>Чай красный фрукт 270мл</td>\n",
       "      <td>NaN</td>\n",
       "      <td>NaN</td>\n",
       "    </tr>\n",
       "    <tr>\n",
       "      <th>3</th>\n",
       "      <td>09.01.2009</td>\n",
       "      <td>824021</td>\n",
       "      <td>Озерный</td>\n",
       "      <td>1</td>\n",
       "      <td>824021</td>\n",
       "      <td>Чай красный фрукт 270мл</td>\n",
       "      <td>NaN</td>\n",
       "      <td>NaN</td>\n",
       "    </tr>\n",
       "    <tr>\n",
       "      <th>4</th>\n",
       "      <td>10.01.2009</td>\n",
       "      <td>824021</td>\n",
       "      <td>Озерный</td>\n",
       "      <td>2</td>\n",
       "      <td>824021</td>\n",
       "      <td>Чай красный фрукт 270мл</td>\n",
       "      <td>NaN</td>\n",
       "      <td>NaN</td>\n",
       "    </tr>\n",
       "    <tr>\n",
       "      <th>...</th>\n",
       "      <td>...</td>\n",
       "      <td>...</td>\n",
       "      <td>...</td>\n",
       "      <td>...</td>\n",
       "      <td>...</td>\n",
       "      <td>...</td>\n",
       "      <td>...</td>\n",
       "      <td>...</td>\n",
       "    </tr>\n",
       "    <tr>\n",
       "      <th>135915</th>\n",
       "      <td>26.05.2013</td>\n",
       "      <td>892545</td>\n",
       "      <td>Мечта</td>\n",
       "      <td>3</td>\n",
       "      <td>892545</td>\n",
       "      <td>Десерт Манифик 100г</td>\n",
       "      <td>NaN</td>\n",
       "      <td>NaN</td>\n",
       "    </tr>\n",
       "    <tr>\n",
       "      <th>135916</th>\n",
       "      <td>27.05.2013</td>\n",
       "      <td>892545</td>\n",
       "      <td>Мечта</td>\n",
       "      <td>1</td>\n",
       "      <td>892545</td>\n",
       "      <td>Десерт Манифик 100г</td>\n",
       "      <td>NaN</td>\n",
       "      <td>NaN</td>\n",
       "    </tr>\n",
       "    <tr>\n",
       "      <th>135917</th>\n",
       "      <td>28.05.2013</td>\n",
       "      <td>892545</td>\n",
       "      <td>Мечта</td>\n",
       "      <td>3</td>\n",
       "      <td>892545</td>\n",
       "      <td>Десерт Манифик 100г</td>\n",
       "      <td>NaN</td>\n",
       "      <td>NaN</td>\n",
       "    </tr>\n",
       "    <tr>\n",
       "      <th>135918</th>\n",
       "      <td>29.05.2013</td>\n",
       "      <td>892545</td>\n",
       "      <td>Мечта</td>\n",
       "      <td>4</td>\n",
       "      <td>892545</td>\n",
       "      <td>Десерт Манифик 100г</td>\n",
       "      <td>NaN</td>\n",
       "      <td>NaN</td>\n",
       "    </tr>\n",
       "    <tr>\n",
       "      <th>135919</th>\n",
       "      <td>30.05.2013</td>\n",
       "      <td>892545</td>\n",
       "      <td>Мечта</td>\n",
       "      <td>1</td>\n",
       "      <td>892545</td>\n",
       "      <td>Десерт Манифик 100г</td>\n",
       "      <td>NaN</td>\n",
       "      <td>NaN</td>\n",
       "    </tr>\n",
       "  </tbody>\n",
       "</table>\n",
       "<p>135920 rows × 8 columns</p>\n",
       "</div>"
      ],
      "text/plain": [
       "              date  product_code rest_code  product_count  Product_code  \\\n",
       "0       06.01.2009        824021   Озерный              4        824021   \n",
       "1       07.01.2009        824021   Озерный              2        824021   \n",
       "2       08.01.2009        824021   Озерный              2        824021   \n",
       "3       09.01.2009        824021   Озерный              1        824021   \n",
       "4       10.01.2009        824021   Озерный              2        824021   \n",
       "...            ...           ...       ...            ...           ...   \n",
       "135915  26.05.2013        892545     Мечта              3        892545   \n",
       "135916  27.05.2013        892545     Мечта              1        892545   \n",
       "135917  28.05.2013        892545     Мечта              3        892545   \n",
       "135918  29.05.2013        892545     Мечта              4        892545   \n",
       "135919  30.05.2013        892545     Мечта              1        892545   \n",
       "\n",
       "                   Product_name Unnamed: 2 Unnamed: 3  \n",
       "0       Чай красный фрукт 270мл        NaN        NaN  \n",
       "1       Чай красный фрукт 270мл        NaN        NaN  \n",
       "2       Чай красный фрукт 270мл        NaN        NaN  \n",
       "3       Чай красный фрукт 270мл        NaN        NaN  \n",
       "4       Чай красный фрукт 270мл        NaN        NaN  \n",
       "...                         ...        ...        ...  \n",
       "135915      Десерт Манифик 100г        NaN        NaN  \n",
       "135916      Десерт Манифик 100г        NaN        NaN  \n",
       "135917      Десерт Манифик 100г        NaN        NaN  \n",
       "135918      Десерт Манифик 100г        NaN        NaN  \n",
       "135919      Десерт Манифик 100г        NaN        NaN  \n",
       "\n",
       "[135920 rows x 8 columns]"
      ]
     },
     "execution_count": 14,
     "metadata": {},
     "output_type": "execute_result"
    }
   ],
   "source": [
    "mergeList = pd.merge(left=SaleList, right=ProductList, left_on='product_code', right_on='Product_code')\n",
    "mergeList"
   ]
  },
  {
   "cell_type": "code",
   "execution_count": null,
   "metadata": {},
   "outputs": [],
   "source": [
    "mergeList.groupby('rest_code')['product_count'].plot.hist(bins=40, alpha=0.4)\n",
    "plt.legend(loc='upper right')"
   ]
  },
  {
   "cell_type": "code",
   "execution_count": null,
   "metadata": {},
   "outputs": [],
   "source": [
    "mergeList['product_count'].hist(bins=40, alpha=0.4)"
   ]
  },
  {
   "cell_type": "code",
   "execution_count": null,
   "metadata": {},
   "outputs": [],
   "source": [
    "mergeList.boxplot(column='product_count')"
   ]
  },
  {
   "cell_type": "code",
   "execution_count": null,
   "metadata": {},
   "outputs": [],
   "source": [
    "#mergeList.groupby('rest_code')[\"Product_code\"].plot.hist(alpha=0.2)\n",
    "mergeList.boxplot(column='product_count', by='rest_code')"
   ]
  },
  {
   "cell_type": "code",
   "execution_count": null,
   "metadata": {},
   "outputs": [],
   "source": [
    "ax = top200.boxplot(column='product_count', by='Product_name')\n",
    "ax.get_figure().suptitle('')"
   ]
  },
  {
   "cell_type": "code",
   "execution_count": null,
   "metadata": {},
   "outputs": [],
   "source": [
    "ax = top400O.boxplot(column='product_count', by='Product_name')\n",
    "ax.get_figure().suptitle('')\n",
    "plt.title(u'  Топ продажи в кафе Озерный')"
   ]
  },
  {
   "cell_type": "code",
   "execution_count": null,
   "metadata": {},
   "outputs": [],
   "source": [
    "mergeList[mergeList['Product_name'] == 'Кофе КАПУЧИНО 150мл'].groupby('rest_code')['product_count'].hist(bins = 30)"
   ]
  },
  {
   "cell_type": "code",
   "execution_count": null,
   "metadata": {},
   "outputs": [],
   "source": [
    "mergeList[mergeList['Product_name'] == 'Кофе КАПУЧИНО 150мл'].boxplot(by = 'rest_code', column = 'product_count')\n",
    "plt.title(u'Продажи Кофе КАПУЧИНО 150мл')"
   ]
  },
  {
   "cell_type": "code",
   "execution_count": null,
   "metadata": {},
   "outputs": [],
   "source": []
  }
 ],
 "metadata": {
  "kernelspec": {
   "display_name": "Python 3",
   "language": "python",
   "name": "python3"
  },
  "language_info": {
   "codemirror_mode": {
    "name": "ipython",
    "version": 3
   },
   "file_extension": ".py",
   "mimetype": "text/x-python",
   "name": "python",
   "nbconvert_exporter": "python",
   "pygments_lexer": "ipython3",
   "version": "3.7.6"
  }
 },
 "nbformat": 4,
 "nbformat_minor": 4
}
