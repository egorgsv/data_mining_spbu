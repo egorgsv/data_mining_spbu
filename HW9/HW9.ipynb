{
 "cells": [
  {
   "cell_type": "markdown",
   "metadata": {},
   "source": [
    "В файле electric_power.xml - данные о почасовом потреблении электроэнергии за два года.\\\n",
    "Укрупните данные до суточного потребления. Спрогнозируйте потребление на 7 суток вперед. Оцените качество прогноза с помощью пары метрик.\n",
    "Продемонстрируйте результат визуально на графике."
   ]
  },
  {
   "cell_type": "code",
   "execution_count": null,
   "metadata": {},
   "outputs": [],
   "source": []
  }
 ],
 "metadata": {
  "kernelspec": {
   "display_name": "Python 3",
   "language": "python",
   "name": "python3"
  },
  "language_info": {
   "codemirror_mode": {
    "name": "ipython",
    "version": 3
   },
   "file_extension": ".py",
   "mimetype": "text/x-python",
   "name": "python",
   "nbconvert_exporter": "python",
   "pygments_lexer": "ipython3",
   "version": "3.8.3"
  }
 },
 "nbformat": 4,
 "nbformat_minor": 4
}
