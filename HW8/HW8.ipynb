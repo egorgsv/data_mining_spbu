{
 "cells": [
  {
   "cell_type": "markdown",
   "metadata": {},
   "source": [
    "Постройте три модели  для прогнозирования цены квартир:\n",
    " \n",
    "1.на основе количества метров;\\\n",
    "2.на основе расстояния до метро;\\\n",
    "3.на основе квадратных метров & расстояния до метро;\\\n",
    "\n",
    "Далее:\\\n",
    "1.Для 1 и 2-го случая отобразите на графике исходные и прогнозные значения.\\\n",
    "2.Сравните исходные и прогнозные значения с помощью метрик качества (всех упомянутых в презентации 12 метрик для всех моделей).\\\n"
   ]
  },
  {
   "cell_type": "code",
   "execution_count": null,
   "metadata": {},
   "outputs": [],
   "source": []
  }
 ],
 "metadata": {
  "kernelspec": {
   "display_name": "Python 3",
   "language": "python",
   "name": "python3"
  },
  "language_info": {
   "codemirror_mode": {
    "name": "ipython",
    "version": 3
   },
   "file_extension": ".py",
   "mimetype": "text/x-python",
   "name": "python",
   "nbconvert_exporter": "python",
   "pygments_lexer": "ipython3",
   "version": "3.8.3"
  }
 },
 "nbformat": 4,
 "nbformat_minor": 4
}
